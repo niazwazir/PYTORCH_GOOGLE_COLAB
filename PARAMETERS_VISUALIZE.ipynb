{
 "cells": [
  {
   "cell_type": "code",
   "execution_count": 1,
   "metadata": {},
   "outputs": [],
   "source": [
    "import torch\n",
    "from torch import nn\n",
    "from torch.autograd import Variable\n",
    "from torchviz import make_dot, make_dot_from_trace"
   ]
  },
  {
   "cell_type": "code",
   "execution_count": 2,
   "metadata": {},
   "outputs": [
    {
     "name": "stdout",
     "output_type": "stream",
     "text": [
      "SRCNN(\n",
      "  (conv1): Conv2d(1, 64, kernel_size=(3, 3), stride=(1, 1), padding=(1, 1), bias=False)\n",
      "  (conv2): Conv2d(64, 64, kernel_size=(3, 3), stride=(1, 1), padding=(1, 1), bias=False)\n",
      "  (conv3): Conv2d(64, 64, kernel_size=(3, 3), stride=(1, 1), padding=(1, 1), bias=False)\n",
      "  (conv4): Conv2d(64, 1, kernel_size=(3, 3), stride=(1, 1), padding=(1, 1), bias=False)\n",
      "  (relu): ReLU(inplace=True)\n",
      ")\n"
     ]
    }
   ],
   "source": [
    "class SRCNN(nn.Module):\n",
    "    def __init__(self, num_channels=1):\n",
    "        super(SRCNN, self).__init__()\n",
    "        self.conv1 = nn.Conv2d(num_channels, 64, kernel_size=3, padding=3 // 2,bias=False)\n",
    "        self.conv2 = nn.Conv2d(64, 64, kernel_size=3, padding=3 // 2,bias=False)\n",
    "        self.conv3 = nn.Conv2d(64, 64, kernel_size=3, padding=3 // 2,bias=False)\n",
    "        self.conv4 = nn.Conv2d(64, num_channels, kernel_size=3, padding=3 // 2,bias=False)\n",
    "        self.relu = nn.ReLU(inplace=True)\n",
    "\n",
    "    def forward(self, x):\n",
    "        x = self.relu(self.conv1(x))\n",
    "        x = self.relu(self.conv2(x))\n",
    "        x = self.relu(self.conv3(x))\n",
    "        x = self.conv4(x)\n",
    "        return x\n",
    "model = SRCNN()\n",
    "print(model)"
   ]
  },
  {
   "cell_type": "code",
   "execution_count": 3,
   "metadata": {},
   "outputs": [
    {
     "name": "stdout",
     "output_type": "stream",
     "text": [
      "-----------------------------------------------------------------------\n",
      "      Layer (type)        Output Shape         Param #     Tr. Param #\n",
      "=======================================================================\n",
      "          Conv2d-1     [1, 64, 28, 28]             576             576\n",
      "            ReLU-2     [1, 64, 28, 28]               0               0\n",
      "          Conv2d-3     [1, 64, 28, 28]          36,864          36,864\n",
      "          Conv2d-4     [1, 64, 28, 28]          36,864          36,864\n",
      "          Conv2d-5      [1, 1, 28, 28]             576             576\n",
      "=======================================================================\n",
      "Total params: 74,880\n",
      "Trainable params: 74,880\n",
      "Non-trainable params: 0\n",
      "-----------------------------------------------------------------------\n",
      "\n",
      "\n",
      "========================================= Hierarchical Summary =========================================\n",
      "\n",
      "SRCNN(\n",
      "  (conv1): Conv2d(1, 64, kernel_size=(3, 3), stride=(1, 1), padding=(1, 1), bias=False), 576 params\n",
      "  (conv2): Conv2d(64, 64, kernel_size=(3, 3), stride=(1, 1), padding=(1, 1), bias=False), 36,864 params\n",
      "  (conv3): Conv2d(64, 64, kernel_size=(3, 3), stride=(1, 1), padding=(1, 1), bias=False), 36,864 params\n",
      "  (conv4): Conv2d(64, 1, kernel_size=(3, 3), stride=(1, 1), padding=(1, 1), bias=False), 576 params\n",
      "  (relu): ReLU(inplace=True), 0 params\n",
      "), 74,880 params\n",
      "\n",
      "\n",
      "========================================================================================================\n",
      "\n"
     ]
    }
   ],
   "source": [
    "# show output shape and hierarchical view of net\n",
    "from pytorch_model_summary import summary\n",
    "print(summary(SRCNN(), torch.zeros((1, 1, 28, 28)), show_input=False, show_hierarchical=True))"
   ]
  },
  {
   "cell_type": "code",
   "execution_count": 4,
   "metadata": {},
   "outputs": [
    {
     "name": "stdout",
     "output_type": "stream",
     "text": [
      "-----------------------------------------------------------------------\n",
      "      Layer (type)         Input Shape         Param #     Tr. Param #\n",
      "=======================================================================\n",
      "          Conv2d-1      [1, 1, 28, 28]             576             576\n",
      "            ReLU-2     [1, 64, 28, 28]               0               0\n",
      "          Conv2d-3     [1, 64, 28, 28]          36,864          36,864\n",
      "          Conv2d-4     [1, 64, 28, 28]          36,864          36,864\n",
      "          Conv2d-5     [1, 64, 28, 28]             576             576\n",
      "=======================================================================\n",
      "Total params: 74,880\n",
      "Trainable params: 74,880\n",
      "Non-trainable params: 0\n",
      "-----------------------------------------------------------------------\n",
      "\n",
      "\n",
      "========================================= Hierarchical Summary =========================================\n",
      "\n",
      "SRCNN(\n",
      "  (conv1): Conv2d(1, 64, kernel_size=(3, 3), stride=(1, 1), padding=(1, 1), bias=False), 576 params\n",
      "  (conv2): Conv2d(64, 64, kernel_size=(3, 3), stride=(1, 1), padding=(1, 1), bias=False), 36,864 params\n",
      "  (conv3): Conv2d(64, 64, kernel_size=(3, 3), stride=(1, 1), padding=(1, 1), bias=False), 36,864 params\n",
      "  (conv4): Conv2d(64, 1, kernel_size=(3, 3), stride=(1, 1), padding=(1, 1), bias=False), 576 params\n",
      "  (relu): ReLU(inplace=True), 0 params\n",
      "), 74,880 params\n",
      "\n",
      "\n",
      "========================================================================================================\n",
      "\n"
     ]
    }
   ],
   "source": [
    "# show output shape and hierarchical view of net\n",
    "from pytorch_model_summary import summary\n",
    "print(summary(SRCNN(), torch.zeros((1, 1, 28, 28)), show_input=True, show_hierarchical=True))"
   ]
  },
  {
   "cell_type": "code",
   "execution_count": 5,
   "metadata": {},
   "outputs": [
    {
     "name": "stdout",
     "output_type": "stream",
     "text": [
      "+--------------+------------+\n",
      "|   Modules    | Parameters |\n",
      "+--------------+------------+\n",
      "| conv1.weight |    576     |\n",
      "| conv2.weight |   36864    |\n",
      "| conv3.weight |   36864    |\n",
      "| conv4.weight |    576     |\n",
      "+--------------+------------+\n",
      "Total Trainable Params: 74880\n"
     ]
    },
    {
     "data": {
      "text/plain": [
       "74880"
      ]
     },
     "execution_count": 5,
     "metadata": {},
     "output_type": "execute_result"
    }
   ],
   "source": [
    "from prettytable import PrettyTable\n",
    "\n",
    "def count_parameters(model):\n",
    "    table = PrettyTable([\"Modules\", \"Parameters\"])\n",
    "    total_params = 0\n",
    "    for name, parameter in model.named_parameters():\n",
    "        if not parameter.requires_grad: continue\n",
    "        param = parameter.numel()\n",
    "        table.add_row([name, param])\n",
    "        total_params+=param\n",
    "    print(table)\n",
    "    print(f\"Total Trainable Params: {total_params}\")\n",
    "    return total_params\n",
    "    \n",
    "count_parameters(model)"
   ]
  },
  {
   "cell_type": "code",
   "execution_count": 6,
   "metadata": {},
   "outputs": [
    {
     "data": {
      "image/svg+xml": [
       "<?xml version=\"1.0\" encoding=\"UTF-8\" standalone=\"no\"?>\r\n",
       "<!DOCTYPE svg PUBLIC \"-//W3C//DTD SVG 1.1//EN\"\r\n",
       " \"http://www.w3.org/Graphics/SVG/1.1/DTD/svg11.dtd\">\r\n",
       "<!-- Generated by graphviz version 2.38.0 (20140413.2041)\r\n",
       " -->\r\n",
       "<!-- Title: %3 Pages: 1 -->\r\n",
       "<svg width=\"330pt\" height=\"537pt\"\r\n",
       " viewBox=\"0.00 0.00 329.50 537.00\" xmlns=\"http://www.w3.org/2000/svg\" xmlns:xlink=\"http://www.w3.org/1999/xlink\">\r\n",
       "<g id=\"graph0\" class=\"graph\" transform=\"scale(1 1) rotate(0) translate(4 533)\">\r\n",
       "<title>%3</title>\r\n",
       "<polygon fill=\"white\" stroke=\"none\" points=\"-4,4 -4,-533 325.5,-533 325.5,4 -4,4\"/>\r\n",
       "<!-- 2185169063216 -->\r\n",
       "<g id=\"node1\" class=\"node\"><title>2185169063216</title>\r\n",
       "<polygon fill=\"#caff70\" stroke=\"black\" points=\"280,-21 184,-21 184,-0 280,-0 280,-21\"/>\r\n",
       "<text text-anchor=\"middle\" x=\"232\" y=\"-7.4\" font-family=\"Times New Roman,serif\" font-size=\"12.00\">MeanBackward0</text>\r\n",
       "</g>\r\n",
       "<!-- 2185168923424 -->\r\n",
       "<g id=\"node2\" class=\"node\"><title>2185168923424</title>\r\n",
       "<polygon fill=\"lightgrey\" stroke=\"black\" points=\"309,-78 155,-78 155,-57 309,-57 309,-78\"/>\r\n",
       "<text text-anchor=\"middle\" x=\"232\" y=\"-64.4\" font-family=\"Times New Roman,serif\" font-size=\"12.00\">MkldnnConvolutionBackward</text>\r\n",
       "</g>\r\n",
       "<!-- 2185168923424&#45;&gt;2185169063216 -->\r\n",
       "<g id=\"edge1\" class=\"edge\"><title>2185168923424&#45;&gt;2185169063216</title>\r\n",
       "<path fill=\"none\" stroke=\"black\" d=\"M232,-56.9197C232,-49.9083 232,-40.1442 232,-31.4652\"/>\r\n",
       "<polygon fill=\"black\" stroke=\"black\" points=\"235.5,-31.3408 232,-21.3408 228.5,-31.3409 235.5,-31.3408\"/>\r\n",
       "</g>\r\n",
       "<!-- 2185187138768 -->\r\n",
       "<g id=\"node3\" class=\"node\"><title>2185187138768</title>\r\n",
       "<polygon fill=\"lightgrey\" stroke=\"black\" points=\"226,-141.5 136,-141.5 136,-120.5 226,-120.5 226,-141.5\"/>\r\n",
       "<text text-anchor=\"middle\" x=\"181\" y=\"-127.9\" font-family=\"Times New Roman,serif\" font-size=\"12.00\">ReluBackward1</text>\r\n",
       "</g>\r\n",
       "<!-- 2185187138768&#45;&gt;2185168923424 -->\r\n",
       "<g id=\"edge2\" class=\"edge\"><title>2185187138768&#45;&gt;2185168923424</title>\r\n",
       "<path fill=\"none\" stroke=\"black\" d=\"M188.969,-120.391C196.559,-111.238 208.166,-97.2409 217.413,-86.09\"/>\r\n",
       "<polygon fill=\"black\" stroke=\"black\" points=\"220.23,-88.1766 223.919,-78.2449 214.841,-83.7083 220.23,-88.1766\"/>\r\n",
       "</g>\r\n",
       "<!-- 2185187138000 -->\r\n",
       "<g id=\"node4\" class=\"node\"><title>2185187138000</title>\r\n",
       "<polygon fill=\"lightgrey\" stroke=\"black\" points=\"258,-205 104,-205 104,-184 258,-184 258,-205\"/>\r\n",
       "<text text-anchor=\"middle\" x=\"181\" y=\"-191.4\" font-family=\"Times New Roman,serif\" font-size=\"12.00\">MkldnnConvolutionBackward</text>\r\n",
       "</g>\r\n",
       "<!-- 2185187138000&#45;&gt;2185187138768 -->\r\n",
       "<g id=\"edge3\" class=\"edge\"><title>2185187138000&#45;&gt;2185187138768</title>\r\n",
       "<path fill=\"none\" stroke=\"black\" d=\"M181,-183.891C181,-175.366 181,-162.639 181,-151.923\"/>\r\n",
       "<polygon fill=\"black\" stroke=\"black\" points=\"184.5,-151.745 181,-141.745 177.5,-151.745 184.5,-151.745\"/>\r\n",
       "</g>\r\n",
       "<!-- 2185187136416 -->\r\n",
       "<g id=\"node5\" class=\"node\"><title>2185187136416</title>\r\n",
       "<polygon fill=\"lightgrey\" stroke=\"black\" points=\"174,-268.5 84,-268.5 84,-247.5 174,-247.5 174,-268.5\"/>\r\n",
       "<text text-anchor=\"middle\" x=\"129\" y=\"-254.9\" font-family=\"Times New Roman,serif\" font-size=\"12.00\">ReluBackward1</text>\r\n",
       "</g>\r\n",
       "<!-- 2185187136416&#45;&gt;2185187138000 -->\r\n",
       "<g id=\"edge4\" class=\"edge\"><title>2185187136416&#45;&gt;2185187138000</title>\r\n",
       "<path fill=\"none\" stroke=\"black\" d=\"M137.125,-247.391C144.864,-238.238 156.699,-224.241 166.127,-213.09\"/>\r\n",
       "<polygon fill=\"black\" stroke=\"black\" points=\"168.976,-215.141 172.76,-205.245 163.631,-210.621 168.976,-215.141\"/>\r\n",
       "</g>\r\n",
       "<!-- 2185107099952 -->\r\n",
       "<g id=\"node6\" class=\"node\"><title>2185107099952</title>\r\n",
       "<polygon fill=\"lightgrey\" stroke=\"black\" points=\"206,-332 52,-332 52,-311 206,-311 206,-332\"/>\r\n",
       "<text text-anchor=\"middle\" x=\"129\" y=\"-318.4\" font-family=\"Times New Roman,serif\" font-size=\"12.00\">MkldnnConvolutionBackward</text>\r\n",
       "</g>\r\n",
       "<!-- 2185107099952&#45;&gt;2185187136416 -->\r\n",
       "<g id=\"edge5\" class=\"edge\"><title>2185107099952&#45;&gt;2185187136416</title>\r\n",
       "<path fill=\"none\" stroke=\"black\" d=\"M129,-310.891C129,-302.366 129,-289.639 129,-278.923\"/>\r\n",
       "<polygon fill=\"black\" stroke=\"black\" points=\"132.5,-278.745 129,-268.745 125.5,-278.745 132.5,-278.745\"/>\r\n",
       "</g>\r\n",
       "<!-- 2185107099712 -->\r\n",
       "<g id=\"node7\" class=\"node\"><title>2185107099712</title>\r\n",
       "<polygon fill=\"lightgrey\" stroke=\"black\" points=\"122,-395.5 32,-395.5 32,-374.5 122,-374.5 122,-395.5\"/>\r\n",
       "<text text-anchor=\"middle\" x=\"77\" y=\"-381.9\" font-family=\"Times New Roman,serif\" font-size=\"12.00\">ReluBackward1</text>\r\n",
       "</g>\r\n",
       "<!-- 2185107099712&#45;&gt;2185107099952 -->\r\n",
       "<g id=\"edge6\" class=\"edge\"><title>2185107099712&#45;&gt;2185107099952</title>\r\n",
       "<path fill=\"none\" stroke=\"black\" d=\"M85.125,-374.391C92.8642,-365.238 104.699,-351.241 114.127,-340.09\"/>\r\n",
       "<polygon fill=\"black\" stroke=\"black\" points=\"116.976,-342.141 120.76,-332.245 111.631,-337.621 116.976,-342.141\"/>\r\n",
       "</g>\r\n",
       "<!-- 2185107102160 -->\r\n",
       "<g id=\"node8\" class=\"node\"><title>2185107102160</title>\r\n",
       "<polygon fill=\"lightgrey\" stroke=\"black\" points=\"154,-459 0,-459 0,-438 154,-438 154,-459\"/>\r\n",
       "<text text-anchor=\"middle\" x=\"77\" y=\"-445.4\" font-family=\"Times New Roman,serif\" font-size=\"12.00\">MkldnnConvolutionBackward</text>\r\n",
       "</g>\r\n",
       "<!-- 2185107102160&#45;&gt;2185107099712 -->\r\n",
       "<g id=\"edge7\" class=\"edge\"><title>2185107102160&#45;&gt;2185107099712</title>\r\n",
       "<path fill=\"none\" stroke=\"black\" d=\"M77,-437.891C77,-429.366 77,-416.639 77,-405.923\"/>\r\n",
       "<polygon fill=\"black\" stroke=\"black\" points=\"80.5001,-405.745 77,-395.745 73.5001,-405.745 80.5001,-405.745\"/>\r\n",
       "</g>\r\n",
       "<!-- 2185107100192 -->\r\n",
       "<g id=\"node9\" class=\"node\"><title>2185107100192</title>\r\n",
       "<polygon fill=\"lightblue\" stroke=\"black\" points=\"115.5,-529 38.5,-529 38.5,-495 115.5,-495 115.5,-529\"/>\r\n",
       "<text text-anchor=\"middle\" x=\"77\" y=\"-515.4\" font-family=\"Times New Roman,serif\" font-size=\"12.00\">conv1.weight</text>\r\n",
       "<text text-anchor=\"middle\" x=\"77\" y=\"-502.4\" font-family=\"Times New Roman,serif\" font-size=\"12.00\"> (64, 1, 3, 3)</text>\r\n",
       "</g>\r\n",
       "<!-- 2185107100192&#45;&gt;2185107102160 -->\r\n",
       "<g id=\"edge8\" class=\"edge\"><title>2185107100192&#45;&gt;2185107102160</title>\r\n",
       "<path fill=\"none\" stroke=\"black\" d=\"M77,-494.842C77,-487.012 77,-477.54 77,-469.282\"/>\r\n",
       "<polygon fill=\"black\" stroke=\"black\" points=\"80.5001,-469.042 77,-459.042 73.5001,-469.042 80.5001,-469.042\"/>\r\n",
       "</g>\r\n",
       "<!-- 2185107101440 -->\r\n",
       "<g id=\"node10\" class=\"node\"><title>2185107101440</title>\r\n",
       "<polygon fill=\"lightblue\" stroke=\"black\" points=\"221.5,-402 140.5,-402 140.5,-368 221.5,-368 221.5,-402\"/>\r\n",
       "<text text-anchor=\"middle\" x=\"181\" y=\"-388.4\" font-family=\"Times New Roman,serif\" font-size=\"12.00\">conv2.weight</text>\r\n",
       "<text text-anchor=\"middle\" x=\"181\" y=\"-375.4\" font-family=\"Times New Roman,serif\" font-size=\"12.00\"> (64, 64, 3, 3)</text>\r\n",
       "</g>\r\n",
       "<!-- 2185107101440&#45;&gt;2185107099952 -->\r\n",
       "<g id=\"edge9\" class=\"edge\"><title>2185107101440&#45;&gt;2185107099952</title>\r\n",
       "<path fill=\"none\" stroke=\"black\" d=\"M167.338,-367.842C160.04,-359.211 151.055,-348.585 143.618,-339.789\"/>\r\n",
       "<polygon fill=\"black\" stroke=\"black\" points=\"146.197,-337.418 137.068,-332.042 140.852,-341.938 146.197,-337.418\"/>\r\n",
       "</g>\r\n",
       "<!-- 2185107101248 -->\r\n",
       "<g id=\"node11\" class=\"node\"><title>2185107101248</title>\r\n",
       "<polygon fill=\"lightblue\" stroke=\"black\" points=\"273.5,-275 192.5,-275 192.5,-241 273.5,-241 273.5,-275\"/>\r\n",
       "<text text-anchor=\"middle\" x=\"233\" y=\"-261.4\" font-family=\"Times New Roman,serif\" font-size=\"12.00\">conv3.weight</text>\r\n",
       "<text text-anchor=\"middle\" x=\"233\" y=\"-248.4\" font-family=\"Times New Roman,serif\" font-size=\"12.00\"> (64, 64, 3, 3)</text>\r\n",
       "</g>\r\n",
       "<!-- 2185107101248&#45;&gt;2185187138000 -->\r\n",
       "<g id=\"edge10\" class=\"edge\"><title>2185107101248&#45;&gt;2185187138000</title>\r\n",
       "<path fill=\"none\" stroke=\"black\" d=\"M219.338,-240.842C212.04,-232.211 203.055,-221.585 195.618,-212.789\"/>\r\n",
       "<polygon fill=\"black\" stroke=\"black\" points=\"198.197,-210.418 189.068,-205.042 192.852,-214.938 198.197,-210.418\"/>\r\n",
       "</g>\r\n",
       "<!-- 2185187138432 -->\r\n",
       "<g id=\"node12\" class=\"node\"><title>2185187138432</title>\r\n",
       "<polygon fill=\"lightblue\" stroke=\"black\" points=\"321.5,-148 244.5,-148 244.5,-114 321.5,-114 321.5,-148\"/>\r\n",
       "<text text-anchor=\"middle\" x=\"283\" y=\"-134.4\" font-family=\"Times New Roman,serif\" font-size=\"12.00\">conv4.weight</text>\r\n",
       "<text text-anchor=\"middle\" x=\"283\" y=\"-121.4\" font-family=\"Times New Roman,serif\" font-size=\"12.00\"> (1, 64, 3, 3)</text>\r\n",
       "</g>\r\n",
       "<!-- 2185187138432&#45;&gt;2185168923424 -->\r\n",
       "<g id=\"edge11\" class=\"edge\"><title>2185187138432&#45;&gt;2185168923424</title>\r\n",
       "<path fill=\"none\" stroke=\"black\" d=\"M269.6,-113.842C262.444,-105.211 253.631,-94.5848 246.337,-85.7891\"/>\r\n",
       "<polygon fill=\"black\" stroke=\"black\" points=\"248.99,-83.5053 239.913,-78.0419 243.602,-87.9737 248.99,-83.5053\"/>\r\n",
       "</g>\r\n",
       "</g>\r\n",
       "</svg>\r\n"
      ],
      "text/plain": [
       "<graphviz.dot.Digraph at 0x1fcc639c730>"
      ]
     },
     "execution_count": 6,
     "metadata": {},
     "output_type": "execute_result"
    }
   ],
   "source": [
    "x = Variable(torch.randn(1,1,33,33))\n",
    "y = model(x)\n",
    "make_dot(y.mean(),params=dict(model.named_parameters()))"
   ]
  },
  {
   "cell_type": "code",
   "execution_count": 7,
   "metadata": {},
   "outputs": [
    {
     "name": "stdout",
     "output_type": "stream",
     "text": [
      "Net(\n",
      "  (conv1): Conv2d(19, 32, kernel_size=(1, 3), stride=(1, 1), padding=(0, 1))\n",
      "  (pool): MaxPool2d(kernel_size=(1, 3), stride=(1, 3), padding=0, dilation=1, ceil_mode=False)\n",
      "  (conv2): Conv2d(32, 64, kernel_size=(1, 3), stride=(1, 1))\n",
      "  (fc1): Linear(in_features=5760, out_features=120, bias=True)\n",
      "  (fc2): Linear(in_features=120, out_features=60, bias=True)\n",
      "  (fc3): Linear(in_features=198, out_features=120, bias=True)\n",
      "  (fc4): Linear(in_features=120, out_features=60, bias=True)\n",
      "  (fc5): Linear(in_features=120, out_features=120, bias=True)\n",
      "  (fc6): Linear(in_features=120, out_features=2, bias=True)\n",
      ")\n"
     ]
    }
   ],
   "source": [
    "class Net(nn.Module):\n",
    "    def __init__(self):\n",
    "        super(Net, self).__init__()\n",
    "        # Energy map net\n",
    "        self.conv1 = nn.Conv2d(19, 32, (1,3), padding=(0,1))\n",
    "        self.pool = nn.MaxPool2d((1,3))\n",
    "        self.conv2 = nn.Conv2d(32, 64, (1,3))\n",
    "        self.fc1 = nn.Linear(64 * 9 * 10, 120)\n",
    "        self.fc2 = nn.Linear(120, 60)\n",
    "\n",
    "        # Sequence net\n",
    "        self.fc3 = nn.Linear(9 * 22, 120)\n",
    "        self.fc4 = nn.Linear(120, 60)\n",
    "\n",
    "        # Combine (concatenated 60 + 60)\n",
    "        self.fc5 = nn.Linear(60 + 60, 120)\n",
    "        self.fc6 = nn.Linear(120, 2)\n",
    "\n",
    "    def forward(self, x1, x2):\n",
    "        # Energy map net\n",
    "        x1 = self.pool(F.relu(self.conv1(x1)))\n",
    "        x1 = self.pool(F.relu(self.conv2(x1)))\n",
    "        x1 = x1.view(-1, 64 * 9 * 10)\n",
    "        x1 = F.relu(self.fc1(x1))\n",
    "model = Net()\n",
    "print(model)"
   ]
  },
  {
   "cell_type": "code",
   "execution_count": null,
   "metadata": {},
   "outputs": [],
   "source": []
  }
 ],
 "metadata": {
  "kernelspec": {
   "display_name": "pytorcch",
   "language": "python",
   "name": "pytorcch"
  },
  "language_info": {
   "codemirror_mode": {
    "name": "ipython",
    "version": 3
   },
   "file_extension": ".py",
   "mimetype": "text/x-python",
   "name": "python",
   "nbconvert_exporter": "python",
   "pygments_lexer": "ipython3",
   "version": "3.8.5"
  }
 },
 "nbformat": 4,
 "nbformat_minor": 4
}
